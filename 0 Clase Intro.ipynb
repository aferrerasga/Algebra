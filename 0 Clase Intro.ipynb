{
 "cells": [
  {
   "cell_type": "markdown",
   "id": "3f0d758b",
   "metadata": {},
   "source": [
    "# Primera Práctica Matlab"
   ]
  },
  {
   "cell_type": "markdown",
   "id": "cbfeb27d",
   "metadata": {},
   "source": [
    "###### Espacio de Trabajo de OCTAVE\n",
    "\n",
    "El \";\" hace que la instrucción sea silenciosa"
   ]
  },
  {
   "cell_type": "code",
   "execution_count": 1,
   "id": "78e72153",
   "metadata": {},
   "outputs": [
    {
     "name": "stdout",
     "output_type": "stream",
     "text": [
      "A =  13\r\n"
     ]
    }
   ],
   "source": [
    "A = 13\n",
    "B_variable = 15.6;"
   ]
  },
  {
   "cell_type": "markdown",
   "id": "c0fcb7d9",
   "metadata": {},
   "source": [
    "Visualizar los objetos en el espacio de trabajo\n",
    "ans : el último resultado"
   ]
  },
  {
   "cell_type": "code",
   "execution_count": null,
   "id": "428fca22",
   "metadata": {
    "collapsed": true
   },
   "outputs": [],
   "source": [
    "who"
   ]
  },
  {
   "cell_type": "code",
   "execution_count": null,
   "id": "1235c9c2",
   "metadata": {
    "collapsed": true
   },
   "outputs": [],
   "source": [
    "whos"
   ]
  },
  {
   "cell_type": "code",
   "execution_count": null,
   "id": "9a54bd63",
   "metadata": {
    "collapsed": true
   },
   "outputs": [],
   "source": [
    "7+8"
   ]
  },
  {
   "cell_type": "code",
   "execution_count": null,
   "id": "8b816f53",
   "metadata": {
    "collapsed": true
   },
   "outputs": [],
   "source": [
    "ans"
   ]
  },
  {
   "cell_type": "markdown",
   "id": "2c31f337",
   "metadata": {},
   "source": [
    "###### Entorno de ayuda"
   ]
  },
  {
   "cell_type": "code",
   "execution_count": null,
   "id": "7a799d68",
   "metadata": {
    "collapsed": true
   },
   "outputs": [],
   "source": [
    "help who % ayuda sobre una función concreta"
   ]
  },
  {
   "cell_type": "code",
   "execution_count": 9,
   "id": "955d8305",
   "metadata": {
    "collapsed": true
   },
   "outputs": [
    {
     "name": "stdout",
     "output_type": "stream",
     "text": [
      "cholinv             Compute the inverse of the symmetric positive definite matr\n",
      "                    ix A using the Cholesky factorization.\n",
      "ipermute            The inverse of the ‘permute’ function.\n",
      "ifft                Compute the inverse discrete Fourier transform of X using a\n",
      "                    Fast Fourier Transform (FFT) algorithm.\n",
      "ifft2               Compute the inverse two-dimensional discrete Fourier transf\n",
      "                    orm of A using a Fast Fourier Transform (FFT) algorithm.\n",
      "ifftn               Compute the inverse N-dimensional discrete Fourier transfor\n",
      "                    m of A using a Fast Fourier Transform (FFT) algorithm.\n",
      "inv                 Compute the inverse of the square matrix A.\n",
      "acos                Compute the inverse cosine in radians for each element of X\n",
      "                    .\n",
      "acosh               Compute the inverse hyperbolic cosine for each element of X\n",
      "                    .\n",
      "asin                Compute the inverse sine in radians for each element of X.\n",
      "asinh               Compute the inverse hyperbolic sine for each element of X.\n",
      "atan                Compute the inverse tangent in radians for each element of \n",
      "                    X.\n",
      "atanh               Compute the inverse hyperbolic tangent for each element of \n",
      "                    X.\n",
      "erfinv              Compute the inverse error function.\n",
      "erfcinv             Compute the inverse complementary error function.\n",
      "pinv                Return the Moore-Penrose pseudoinverse of X.\n",
      "acosd               Compute the inverse cosine in degrees for each element of X\n",
      "                    .\n",
      "acot                Compute the inverse cotangent in radians for each element o\n",
      "                    f X.\n",
      "acotd               Compute the inverse cotangent in degrees for each element o\n",
      "                    f X.\n",
      "acoth               Compute the inverse hyperbolic cotangent of each element of\n",
      "                    X.\n",
      "acsc                Compute the inverse cosecant in radians for each element of\n",
      "                    X.\n",
      "acscd               Compute the inverse cosecant in degrees for each element of\n",
      "                    X.\n",
      "acsch               Compute the inverse hyperbolic cosecant of each element of \n",
      "                    X.\n",
      "asec                Compute the inverse secant in radians for each element of X\n",
      "                    .\n",
      "asecd               Compute the inverse secant in degrees for each element of X\n",
      "                    .\n",
      "asech               Compute the inverse hyperbolic secant of each element of X.\n",
      "asind               Compute the inverse sine in degrees for each element of X.\n",
      "atand               Compute the inverse tangent in degrees for each element of \n",
      "                    X.\n",
      "betaincinv          Compute the inverse of the normalized incomplete beta funct\n",
      "                    ion.\n",
      "gammaincinv         Compute the inverse of the normalized incomplete gamma func\n",
      "                    tion.\n",
      "invhilb             Return the inverse of the Hilbert matrix of order N.\n",
      "discrete_inv        For each element of X, compute the quantile (the inverse of\n",
      "                    the CDF) at X of the univariate distribution which assumes\n",
      "                    s the values in V with probabilities P.\n",
      "empirical_inv       For each element of X, compute the quantile (the inverse of\n",
      "                    the CDF) at X of the empirical distribution obtained from\n",
      "                    the univariate sample DATA.\n"
     ]
    }
   ],
   "source": [
    "lookfor inverse "
   ]
  },
  {
   "cell_type": "markdown",
   "id": "68f5cc01",
   "metadata": {},
   "source": [
    "Si la salida es muy larga podemos ocultarla con \"Toogle\" o \"Toggle Scroll\" del Menu"
   ]
  },
  {
   "cell_type": "code",
   "execution_count": 11,
   "id": "06ca4922",
   "metadata": {},
   "outputs": [
    {
     "name": "stdout",
     "output_type": "stream",
     "text": [
      "a =  5\r\n"
     ]
    }
   ],
   "source": [
    "%% Esto es un comentario. Vale para poner texto entre el código para dar explicaciones\n",
    "a = 5 % Esto también"
   ]
  },
  {
   "cell_type": "markdown",
   "id": "dcee3a13",
   "metadata": {},
   "source": [
    "Es conveniente borrar los elementos del espacio de trabajo de vex en cuando"
   ]
  },
  {
   "cell_type": "code",
   "execution_count": 12,
   "id": "7a3a4a54",
   "metadata": {},
   "outputs": [],
   "source": [
    "clear a"
   ]
  },
  {
   "cell_type": "code",
   "execution_count": 13,
   "id": "3a600648",
   "metadata": {},
   "outputs": [
    {
     "name": "stdout",
     "output_type": "stream",
     "text": [
      "Variables in the current scope:\r\n",
      "\r\n",
      "A           B_variable  ans\r\n",
      "\r\n"
     ]
    }
   ],
   "source": [
    "who"
   ]
  },
  {
   "cell_type": "code",
   "execution_count": 15,
   "id": "f57e2c9c",
   "metadata": {},
   "outputs": [],
   "source": [
    "clear all\n",
    "who"
   ]
  },
  {
   "cell_type": "markdown",
   "id": "b46b4b88",
   "metadata": {},
   "source": [
    "# Objetos de OCTAVE"
   ]
  },
  {
   "cell_type": "markdown",
   "id": "2b2a1f67",
   "metadata": {},
   "source": [
    "## Vectores\n",
    "\n",
    "### Creación de vectores"
   ]
  },
  {
   "cell_type": "code",
   "execution_count": 1,
   "id": "c03a1ace",
   "metadata": {},
   "outputs": [
    {
     "name": "stdout",
     "output_type": "stream",
     "text": [
      "vector1 =\n",
      "\n",
      "    4   40    7   80   90\n",
      "\n",
      "vector2 =\n",
      "\n",
      "   150    40    90\n",
      "\n"
     ]
    }
   ],
   "source": [
    "vector1 = [4 40 7 80 90]\n",
    "vector2 = [150, 40, 90]   # Los elementos se pueden separar con espacios o comas"
   ]
  },
  {
   "cell_type": "markdown",
   "id": "35a3bc3f",
   "metadata": {},
   "source": [
    "Podemos crear vectores como secuencias de números: Generamos una secuencia\n",
    "* Valor inicial 0\n",
    "* Valor final 5\n",
    "* Diferencia entre dos valores consecutivos 0.5"
   ]
  },
  {
   "cell_type": "code",
   "execution_count": 2,
   "id": "ea343cf4",
   "metadata": {},
   "outputs": [
    {
     "name": "stdout",
     "output_type": "stream",
     "text": [
      "vector3 =\r\n",
      "\r\n",
      " Columns 1 through 8:\r\n",
      "\r\n",
      "   0.00000   0.50000   1.00000   1.50000   2.00000   2.50000   3.00000   3.50000\r\n",
      "\r\n",
      " Columns 9 through 11:\r\n",
      "\r\n",
      "   4.00000   4.50000   5.00000\r\n",
      "\r\n"
     ]
    }
   ],
   "source": [
    "vector3 = [0:0.5:5]"
   ]
  },
  {
   "cell_type": "markdown",
   "id": "c89b83bc",
   "metadata": {},
   "source": [
    "Por defecto la diferencia entre posiciones consecutivas del vector es 1"
   ]
  },
  {
   "cell_type": "code",
   "execution_count": 6,
   "id": "e777e22f",
   "metadata": {},
   "outputs": [
    {
     "name": "stdout",
     "output_type": "stream",
     "text": [
      "vector4 =\r\n",
      "\r\n",
      "   20   21   22   23   24   25\r\n",
      "\r\n"
     ]
    }
   ],
   "source": [
    "vector4 = 20:25"
   ]
  },
  {
   "cell_type": "markdown",
   "id": "9faa3bf9",
   "metadata": {},
   "source": [
    "Podemos generar secuencias de N valores equiespaciados, con linspace(). Por ejemplo:\n",
    "- Valor inicial: 3.75\n",
    "- Valor final: 4.75\n",
    "- Número de valores: 5"
   ]
  },
  {
   "cell_type": "code",
   "execution_count": 5,
   "id": "8ebd09e1",
   "metadata": {},
   "outputs": [
    {
     "name": "stdout",
     "output_type": "stream",
     "text": [
      "vector5 =\r\n",
      "\r\n",
      "   3.7500   4.0000   4.2500   4.5000   4.7500\r\n",
      "\r\n"
     ]
    }
   ],
   "source": [
    "vector5 = linspace(3.75, 4.75, 5)"
   ]
  },
  {
   "cell_type": "markdown",
   "id": "b5baa9da",
   "metadata": {},
   "source": [
    "La función length() nos da la longitud del vector"
   ]
  },
  {
   "cell_type": "code",
   "execution_count": 10,
   "id": "86838d48",
   "metadata": {},
   "outputs": [
    {
     "name": "stdout",
     "output_type": "stream",
     "text": [
      "longitud_vector4 =  6\n",
      "ans =  5\n"
     ]
    }
   ],
   "source": [
    "longitud_vector4 = length(vector4)\n",
    "length(vector5)"
   ]
  },
  {
   "cell_type": "code",
   "execution_count": 11,
   "id": "d7e2c2ff",
   "metadata": {},
   "outputs": [],
   "source": [
    "clear all # Limpiamos el espacio de trabajo"
   ]
  },
  {
   "cell_type": "markdown",
   "id": "cde9894e",
   "metadata": {},
   "source": [
    "### Acceso a las posiciones de un vector\n",
    "\n",
    "Creamos un vector de prueba"
   ]
  },
  {
   "cell_type": "code",
   "execution_count": 22,
   "id": "6d938320",
   "metadata": {},
   "outputs": [
    {
     "name": "stdout",
     "output_type": "stream",
     "text": [
      "vector =\r\n",
      "\r\n",
      "   11   12   13   14   15   16   17   18   19   20\r\n",
      "\r\n"
     ]
    }
   ],
   "source": [
    "vector = linspace(11,20,10)"
   ]
  },
  {
   "cell_type": "markdown",
   "id": "6dc26828",
   "metadata": {},
   "source": [
    "Podemos especificar las posiciones a las que queremos acceder"
   ]
  },
  {
   "cell_type": "code",
   "execution_count": 23,
   "id": "96a630ea",
   "metadata": {},
   "outputs": [
    {
     "name": "stdout",
     "output_type": "stream",
     "text": [
      "ans =  11\n",
      "ans =  17\n"
     ]
    }
   ],
   "source": [
    "vector(1)  # El primer vector es el 1. En otros lenguajes se comienza por 0\n",
    "vector(7)"
   ]
  },
  {
   "cell_type": "markdown",
   "id": "1e3b2405",
   "metadata": {},
   "source": [
    "Podemos seleccionar un rango de posiciones"
   ]
  },
  {
   "cell_type": "code",
   "execution_count": 28,
   "id": "715e0afb",
   "metadata": {},
   "outputs": [
    {
     "name": "stdout",
     "output_type": "stream",
     "text": [
      "ans =\n",
      "\n",
      "   12   13   14   15   16   17\n",
      "\n",
      "ans =\n",
      "\n",
      "   11   14   17\n",
      "\n"
     ]
    }
   ],
   "source": [
    "vector(2:7)\n",
    "vector(1:3:7)  # Incluso una secuencia con pasos diferentes de 1\n"
   ]
  },
  {
   "cell_type": "markdown",
   "id": "efe143a5",
   "metadata": {},
   "source": [
    "Incluso seleccionar mediante expresiones lógicas"
   ]
  },
  {
   "cell_type": "code",
   "execution_count": 29,
   "id": "33645ae3",
   "metadata": {},
   "outputs": [
    {
     "name": "stdout",
     "output_type": "stream",
     "text": [
      "ans =\r\n",
      "\r\n",
      "  0  0  0  0  0  0  0  0  1  1\r\n",
      "\r\n"
     ]
    }
   ],
   "source": [
    "vector > 18  # Nos indica que elementos cumplen la condición"
   ]
  },
  {
   "cell_type": "code",
   "execution_count": 31,
   "id": "4d7e3938",
   "metadata": {},
   "outputs": [
    {
     "name": "stdout",
     "output_type": "stream",
     "text": [
      "ans =\r\n",
      "\r\n",
      "   19   20\r\n",
      "\r\n"
     ]
    }
   ],
   "source": [
    "vector(vector> 18) # Podemos utilizar para seleccionarlo"
   ]
  },
  {
   "cell_type": "markdown",
   "id": "9184c1b4",
   "metadata": {},
   "source": [
    "Podemos obtener expresiones lógicas más compleas utilizando las siguientes operadores:\n",
    "* **&** : AND lógico\n",
    "* **|** : OR lógico\n",
    "* **~** : NOT lógico  (recordad : Alt + 126)"
   ]
  },
  {
   "cell_type": "code",
   "execution_count": 33,
   "id": "21fa47c5",
   "metadata": {},
   "outputs": [
    {
     "name": "stdout",
     "output_type": "stream",
     "text": [
      "prueba1 =\n",
      "\n",
      "   16   17\n",
      "\n",
      "prueba2 =\n",
      "\n",
      "   11   12   19   20\n",
      "\n",
      "prueba3 =\n",
      "\n",
      "   11   12\n",
      "\n"
     ]
    }
   ],
   "source": [
    "prueba1 = vector(vector > 15 & vector < 18)\n",
    "prueba2 = vector(vector < 13 | vector > 18)\n",
    "prueba3 = vector(~(vector>12))"
   ]
  },
  {
   "cell_type": "markdown",
   "id": "de4f4bc8",
   "metadata": {},
   "source": [
    "### Operaciones con vectores\n",
    "\n",
    "Creamos unos vectores"
   ]
  },
  {
   "cell_type": "code",
   "execution_count": null,
   "id": "da0f805d",
   "metadata": {},
   "outputs": [],
   "source": []
  },
  {
   "cell_type": "code",
   "execution_count": 38,
   "id": "1257ee09",
   "metadata": {},
   "outputs": [
    {
     "name": "stdout",
     "output_type": "stream",
     "text": [
      "vector1 =\n",
      "\n",
      "   1   2   3   4\n",
      "\n",
      "vector2 =\n",
      "\n",
      "   5   6   7   8\n",
      "\n"
     ]
    }
   ],
   "source": [
    "vector1 = [1 2 3 4]\n",
    "vector2 = [5 6 7 8]"
   ]
  },
  {
   "cell_type": "markdown",
   "id": "a8f4a8f0",
   "metadata": {},
   "source": [
    "Transponer vectores fila -> columna. Operador '"
   ]
  },
  {
   "cell_type": "code",
   "execution_count": 39,
   "id": "0aa7849d",
   "metadata": {},
   "outputs": [
    {
     "name": "stdout",
     "output_type": "stream",
     "text": [
      "ans =\r\n",
      "\r\n",
      "   1\r\n",
      "   2\r\n",
      "   3\r\n",
      "   4\r\n",
      "\r\n"
     ]
    }
   ],
   "source": [
    "vector1'"
   ]
  },
  {
   "cell_type": "markdown",
   "id": "94c9d772",
   "metadata": {},
   "source": [
    "Concatenación de vectores"
   ]
  },
  {
   "cell_type": "code",
   "execution_count": 40,
   "id": "20c5e7e8",
   "metadata": {},
   "outputs": [
    {
     "name": "stdout",
     "output_type": "stream",
     "text": [
      "vector3 =\r\n",
      "\r\n",
      "   1   2   3   4   5   6   7   8\r\n",
      "\r\n"
     ]
    }
   ],
   "source": [
    "vector3 = [vector1 vector2]  # Por columnas"
   ]
  },
  {
   "cell_type": "code",
   "execution_count": 41,
   "id": "ebbb04d9",
   "metadata": {
    "scrolled": false
   },
   "outputs": [
    {
     "name": "stdout",
     "output_type": "stream",
     "text": [
      "vector3 =\r\n",
      "\r\n",
      "   1   2   3   4\r\n",
      "   5   6   7   8\r\n",
      "\r\n"
     ]
    }
   ],
   "source": [
    "vector3 = [vector1 ; vector2]  # Por filas"
   ]
  },
  {
   "cell_type": "markdown",
   "id": "af8a00f2",
   "metadata": {},
   "source": [
    "### Operaciones algebraicas"
   ]
  },
  {
   "cell_type": "markdown",
   "id": "2a8c141b",
   "metadata": {},
   "source": [
    "Operaciones algebraicas de un escalar y un vector"
   ]
  },
  {
   "cell_type": "code",
   "execution_count": 45,
   "id": "46ab6cbe",
   "metadata": {},
   "outputs": [
    {
     "name": "stdout",
     "output_type": "stream",
     "text": [
      "suma =\n",
      "\n",
      "   6   7   8   9\n",
      "\n",
      "producto =\n",
      "\n",
      "    5   10   15   20\n",
      "\n",
      "division =\n",
      "\n",
      " Columns 1 through 8:\n",
      "\n",
      "   2.2000   2.4000   2.6000   2.8000   3.0000   3.2000   3.4000   3.6000\n",
      "\n",
      " Columns 9 and 10:\n",
      "\n",
      "   3.8000   4.0000\n",
      "\n"
     ]
    }
   ],
   "source": [
    "suma = 5 + vector1\n",
    "producto = 5*vector1\n",
    "division = vector/5"
   ]
  },
  {
   "cell_type": "markdown",
   "id": "88614bf6",
   "metadata": {},
   "source": [
    "Operaciones entre vectores"
   ]
  },
  {
   "cell_type": "code",
   "execution_count": 47,
   "id": "d86cb1e3",
   "metadata": {},
   "outputs": [
    {
     "name": "stdout",
     "output_type": "stream",
     "text": [
      "vector1 =\n",
      "\n",
      "   1   2   3   4\n",
      "\n",
      "vector2 =\n",
      "\n",
      "   5   6   7   8\n",
      "\n",
      "suma =\n",
      "\n",
      "    6    8   10   12\n",
      "\n",
      "producto_escalar =\n",
      "\n",
      "    5   12   21   32\n",
      "\n",
      "division_escalar =\n",
      "\n",
      "   0.20000   0.33333   0.42857   0.50000\n",
      "\n"
     ]
    }
   ],
   "source": [
    "vector1\n",
    "vector2\n",
    "suma = vector1 + vector2\n",
    "producto_escalar = vector1 .* vector2 % .* Producto es por componentes (no matricial)\n",
    "division_escalar = vector1 ./ vector2"
   ]
  },
  {
   "cell_type": "markdown",
   "id": "2f16c07c",
   "metadata": {},
   "source": [
    "Otras operaciones de cálculo disponible"
   ]
  },
  {
   "cell_type": "code",
   "execution_count": 53,
   "id": "81796138",
   "metadata": {},
   "outputs": [
    {
     "name": "stdout",
     "output_type": "stream",
     "text": [
      "vector =\r\n",
      "\r\n",
      "   0.00000   1.00000  -1.00000   2.00000   3.14159   2.71828\r\n",
      "\r\n"
     ]
    }
   ],
   "source": [
    "vector = [0 1 -1 2 pi e]  % Entiende las constante e y pi"
   ]
  },
  {
   "cell_type": "code",
   "execution_count": 59,
   "id": "0f8f2eae",
   "metadata": {},
   "outputs": [
    {
     "name": "stdout",
     "output_type": "stream",
     "text": [
      "coseno =\n",
      "\n",
      "  -0.91173   0.54030  -0.41615  -0.65364\n",
      "\n",
      "seno =\n",
      "\n",
      "   0.41078   0.84147   0.90930  -0.75680\n",
      "\n",
      "tangente =\n",
      "\n",
      "  -0.45055   1.55741  -2.18504   1.15782\n",
      "\n",
      "exponencial =\n",
      "\n",
      "   15.1543    2.7183    7.3891   54.5982\n",
      "\n",
      "absoluto =\n",
      "\n",
      "   2.7183   1.0000   2.0000   4.0000\n",
      "\n"
     ]
    }
   ],
   "source": [
    "coseno = cos(vector)\n",
    "seno = sin(vector)    # En inglés \"sine\"\n",
    "tangente = tan(vector)\n",
    "exponencial = exp(vector)\n",
    "absoluto = abs(vector) "
   ]
  },
  {
   "cell_type": "markdown",
   "id": "d7c588df",
   "metadata": {},
   "source": [
    "Más operaciones..."
   ]
  },
  {
   "cell_type": "code",
   "execution_count": 60,
   "id": "12980431",
   "metadata": {},
   "outputs": [
    {
     "name": "stdout",
     "output_type": "stream",
     "text": [
      "vector =\n",
      "\n",
      "   2.7183   1.0000   2.0000   4.0000\n",
      "\n",
      "raiz_cuadrada =\n",
      "\n",
      "   1.6487   1.0000   1.4142   2.0000\n",
      "\n",
      "logaritmo_neperiano =\n",
      "\n",
      "   1.00000   0.00000   0.69315   1.38629\n",
      "\n",
      "potencia =\n",
      "\n",
      "   0.60653   1.00000   0.70711   0.50000\n",
      "\n"
     ]
    }
   ],
   "source": [
    "vector = [e 1 2 4]            # Sin negativos\n",
    "raiz_cuadrada = sqrt(vector)  # En inglés \"square root\"\n",
    "logaritmo_neperiano = log(vector)\n",
    "potencia = vector.^(-1/2)  # Cada elemento elevado a la potencia -0.5"
   ]
  },
  {
   "cell_type": "markdown",
   "id": "d4331d6d",
   "metadata": {},
   "source": [
    "Otras funciones específicas de vectores"
   ]
  },
  {
   "cell_type": "code",
   "execution_count": 63,
   "id": "79c29110",
   "metadata": {},
   "outputs": [
    {
     "name": "stdout",
     "output_type": "stream",
     "text": [
      "vector =\n",
      "\n",
      "    1    2    3    4    5    6    7    8    9   10\n",
      "\n",
      "minimo =  1\n",
      "maximo =  10\n",
      "valor_medio =  5.5000\n",
      "desviacion_estandar =  3.0277\n",
      "suma =  55\n"
     ]
    }
   ],
   "source": [
    "vector = [1:10]\n",
    "minimo = min(vector)\n",
    "maximo = max(vector)\n",
    "valor_medio = mean(vector)\n",
    "desviacion_estandar = std(vector)\n",
    "suma = sum(vector)\n"
   ]
  },
  {
   "cell_type": "markdown",
   "id": "32b9713a",
   "metadata": {},
   "source": [
    "Podemos ordenar los vectores con el comando sort(), que nos devuelve dos parámetros: el vector ordenado y el vector de índices, para ordenar el vector de menor a mayor"
   ]
  },
  {
   "cell_type": "code",
   "execution_count": 64,
   "id": "f25e7a4e",
   "metadata": {},
   "outputs": [
    {
     "name": "stdout",
     "output_type": "stream",
     "text": [
      "vector =\n",
      "\n",
      "   2   5   1   3   4\n",
      "\n",
      "vector_ordenado =\n",
      "\n",
      "   1   2   3   4   5\n",
      "\n",
      "indices =\n",
      "\n",
      "   3   1   4   5   2\n",
      "\n"
     ]
    }
   ],
   "source": [
    "vector = [2 5 1 3 4]\n",
    "[vector_ordenado, indices] = sort(vector)"
   ]
  },
  {
   "cell_type": "markdown",
   "id": "0a413672",
   "metadata": {},
   "source": [
    "**EJERCICIO CON VECTORES:** Cuando gauss contaba con 7 años, el profesor le puso un problema para tenerlo un rato entretenido. ¿Cuánto vale la suma de los números entre 1 y 100? Implementarlo de la forma más corta posible"
   ]
  },
  {
   "cell_type": "code",
   "execution_count": 65,
   "id": "bea4b44f",
   "metadata": {},
   "outputs": [
    {
     "name": "stdout",
     "output_type": "stream",
     "text": [
      "suma =  5050\r\n"
     ]
    }
   ],
   "source": [
    "suma = sum([1:100])"
   ]
  },
  {
   "cell_type": "markdown",
   "id": "5dbbe7d4",
   "metadata": {},
   "source": [
    "## MATRICES"
   ]
  },
  {
   "cell_type": "markdown",
   "id": "5b1e30a9",
   "metadata": {},
   "source": [
    "### Creación de matrices"
   ]
  },
  {
   "cell_type": "code",
   "execution_count": 66,
   "id": "670616d2",
   "metadata": {},
   "outputs": [
    {
     "name": "stdout",
     "output_type": "stream",
     "text": [
      "matriz_A =\r\n",
      "\r\n",
      "    1    2    3\r\n",
      "    4    5    6\r\n",
      "   10   20   40\r\n",
      "\r\n"
     ]
    }
   ],
   "source": [
    "matriz_A = [1 2 3; 4 5 6; 10 20 40]"
   ]
  },
  {
   "cell_type": "markdown",
   "id": "ea03b925",
   "metadata": {},
   "source": [
    "### Creación de matices estándar"
   ]
  },
  {
   "cell_type": "code",
   "execution_count": 75,
   "id": "2e0d4777",
   "metadata": {},
   "outputs": [
    {
     "name": "stdout",
     "output_type": "stream",
     "text": [
      "matriz_zeros =\n",
      "\n",
      "   0   0   0   0\n",
      "   0   0   0   0\n",
      "   0   0   0   0\n",
      "   0   0   0   0\n",
      "\n",
      "matriz_unos =\n",
      "\n",
      "   1   1   1   1\n",
      "   1   1   1   1\n",
      "   1   1   1   1\n",
      "\n",
      "matriz_identidad =\n",
      "\n",
      "Diagonal Matrix\n",
      "\n",
      "   1   0   0   0\n",
      "   0   1   0   0\n",
      "   0   0   1   0\n",
      "   0   0   0   1\n",
      "\n",
      "matriz_normal =\n",
      "\n",
      "   0.25910  -2.81971  -0.48623\n",
      "   0.49640   0.61487  -0.80488\n",
      "   1.31504  -0.10806   2.12406\n",
      "\n",
      "matriz_unif =\n",
      "\n",
      "   0.79759   0.20209   0.24572   0.39798   0.57183\n",
      "   0.82420   0.83159   0.14743   0.37293   0.79775\n",
      "\n",
      "matriz =\n",
      "\n",
      "    1    7   13   19   25   31\n",
      "    2    8   14   20   26   32\n",
      "    3    9   15   21   27   33\n",
      "    4   10   16   22   28   34\n",
      "    5   11   17   23   29   35\n",
      "    6   12   18   24   30   36\n",
      "\n"
     ]
    }
   ],
   "source": [
    "matriz_zeros = zeros(4,4)   # Matriz de 4x4 con todos los valores 0\n",
    "matriz_unos = ones(3,4)     # Matriz de 3x4 con todos los valores 0\n",
    "matriz_identidad = eye(4,4) # Matriz identidad 4x4, 1's en la diagonal\n",
    "matriz_normal = randn(3,3)  # Matriz con valores distribuidos normalmente\n",
    "matriz_unif = rand(2,5)     # Matriz con valores distribuidos uniformemente (0,1)\n",
    "matriz = reshape(1:36, 6, 6)  # Crea una matriz a partir de los valores de un vector\n",
    "                            # Se llena por columnas"
   ]
  },
  {
   "cell_type": "markdown",
   "id": "25de35c3",
   "metadata": {},
   "source": [
    "### Acceso a las posiciones de una matriz"
   ]
  },
  {
   "cell_type": "code",
   "execution_count": 81,
   "id": "c2f6c984",
   "metadata": {},
   "outputs": [
    {
     "name": "stdout",
     "output_type": "stream",
     "text": [
      "elemento2_3 =  14\n",
      "segunda_columna =\n",
      "\n",
      "    7\n",
      "    8\n",
      "    9\n",
      "   10\n",
      "   11\n",
      "   12\n",
      "\n",
      "tercera_fila =\n",
      "\n",
      "    3    9   15   21   27   33\n",
      "\n",
      "cuarta_a_sexta_fila =\n",
      "\n",
      "    4   10   16   22   28   34\n",
      "    5   11   17   23   29   35\n",
      "    6   12   18   24   30   36\n",
      "\n",
      "cuarta_y_sexta_fila =\n",
      "\n",
      "    4   10   16   22   28   34\n",
      "    6   12   18   24   30   36\n",
      "\n",
      "sub_matriz =\n",
      "\n",
      "   14   26\n",
      "   15   27\n",
      "\n",
      "elementos_de_la_diagonal =\n",
      "\n",
      "    1\n",
      "    8\n",
      "   15\n",
      "   22\n",
      "   29\n",
      "   36\n",
      "\n"
     ]
    }
   ],
   "source": [
    "elemento2_3 = matriz(2,3)     % Accede al elemento de la fila 2 y columna 3\n",
    "segunda_columna = matriz(:,2)\n",
    "tercera_fila = matriz(3,:)\n",
    "cuarta_a_sexta_fila = matriz(4:6,:)\n",
    "cuarta_y_sexta_fila = matriz([4 6 ],:)\n",
    "sub_matriz = matriz([2 3], [3 5])\n",
    "elementos_de_la_diagonal = diag(matriz)"
   ]
  },
  {
   "cell_type": "markdown",
   "id": "b562447f",
   "metadata": {},
   "source": [
    "### Operaciones iterativas sobre filas y columnas de una matriz"
   ]
  },
  {
   "cell_type": "code",
   "execution_count": 13,
   "id": "fb845d16",
   "metadata": {},
   "outputs": [
    {
     "name": "stdout",
     "output_type": "stream",
     "text": [
      "matriz =\n",
      "\n",
      "   1   6   6   6\n",
      "   6   5   9   3\n",
      "   8   6   5   5\n",
      "   9   3   8   5\n",
      "\n",
      "suma_columnas =\n",
      "\n",
      "   24   20   28   19\n",
      "\n",
      "suma_filas =\n",
      "\n",
      "   19\n",
      "   23\n",
      "   24\n",
      "   25\n",
      "\n",
      "max_columnas =\n",
      "\n",
      "   9   6   9   6\n",
      "\n",
      "max_filas =\n",
      "\n",
      "   6\n",
      "   9\n",
      "   8\n",
      "   9\n",
      "\n",
      "min_columnas =\n",
      "\n",
      "   1   3   5   3\n",
      "\n",
      "min_filas =\n",
      "\n",
      "   1\n",
      "   3\n",
      "   5\n",
      "   3\n",
      "\n",
      "mean_columnas =\n",
      "\n",
      "   6.0000   5.0000   7.0000   4.7500\n",
      "\n",
      "mean_filas =\n",
      "\n",
      "   4.7500\n",
      "   5.7500\n",
      "   6.0000\n",
      "   6.2500\n",
      "\n",
      "std_columnas =\n",
      "\n",
      "   3.0822   1.2247   1.5811   1.0897\n",
      "\n",
      "std_filas =\n",
      "\n",
      "   2.1651\n",
      "   2.1651\n",
      "   1.2247\n",
      "   2.3848\n",
      "\n"
     ]
    }
   ],
   "source": [
    "matriz = round(rand(4,4)*10)\n",
    "\n",
    "suma_columnas = sum(matriz, 1)        # Realiza la suma de cada una de las columnas\n",
    "suma_filas = sum(matriz, 2)        # Realiza la suma de cada una de las filas\n",
    "\n",
    "max_columnas = max( matriz, [], 1 ) % calcula el máximo para cada una de las columnas\n",
    "max_filas = max( matriz, [], 2 ) % calcula el máximo por filas\n",
    "\n",
    "min_columnas = min( matriz, [], 1 ) % mínimo por filas\n",
    "min_filas = min( matriz, [], 2 )\n",
    "\n",
    "mean_columnas = mean( matriz, 1 ) % media por columnas\n",
    "mean_filas = mean( matriz, 2 ) % media por filas\n",
    "\n",
    "std_columnas = std( matriz, 1, 1) % desviación estándard para columnas\n",
    "std_filas = std( matriz, 1, 2 ) % desviación para filas"
   ]
  },
  {
   "cell_type": "markdown",
   "id": "c7b55da9",
   "metadata": {},
   "source": [
    "### Selección de filas y columnas de una matriz que cumplen una condición lógica"
   ]
  },
  {
   "cell_type": "markdown",
   "id": "2b8bc9c4",
   "metadata": {},
   "source": [
    "Seleccionamos las columnas cuyo valor máximo sea > 6"
   ]
  },
  {
   "cell_type": "code",
   "execution_count": 16,
   "id": "305094ee",
   "metadata": {},
   "outputs": [
    {
     "name": "stdout",
     "output_type": "stream",
     "text": [
      "matriz =\n",
      "\n",
      "    6    6    4    6\n",
      "    0   10    1   10\n",
      "    0    2    1    7\n",
      "    5    8    1    6\n",
      "\n",
      "vector_max =\n",
      "\n",
      "    6   10    4   10\n",
      "\n",
      "ans =\n",
      "\n",
      "    6    6\n",
      "   10   10\n",
      "    2    7\n",
      "    8    6\n",
      "\n"
     ]
    }
   ],
   "source": [
    "matriz = round(rand(4,4)*10)\n",
    "vector_max = max( matriz, [], 1 )\n",
    "matriz(:, vector_max>6)"
   ]
  },
  {
   "cell_type": "markdown",
   "id": "4082b5fd",
   "metadata": {},
   "source": [
    "Selecciomos las filas cuya media sea menor que 5"
   ]
  },
  {
   "cell_type": "code",
   "execution_count": 20,
   "id": "f18b2e59",
   "metadata": {},
   "outputs": [
    {
     "name": "stdout",
     "output_type": "stream",
     "text": [
      "vector_media =\n",
      "\n",
      "   5.5000\n",
      "   5.2500\n",
      "   2.5000\n",
      "   5.0000\n",
      "\n",
      "ans =\n",
      "\n",
      "    6    6    4    6\n",
      "    0   10    1   10\n",
      "    0    2    1    7\n",
      "    5    8    1    6\n",
      "\n"
     ]
    }
   ],
   "source": [
    "vector_media = mean(matriz, 2)\n",
    "matriz(vector_media<6,:)\n",
    "clear all"
   ]
  },
  {
   "cell_type": "markdown",
   "id": "597680ca",
   "metadata": {},
   "source": [
    "### Operaciones algebraicas con matrices"
   ]
  },
  {
   "cell_type": "code",
   "execution_count": 48,
   "id": "d93416c2",
   "metadata": {},
   "outputs": [
    {
     "name": "stdout",
     "output_type": "stream",
     "text": [
      "matriz_A =\n",
      "\n",
      "    4    8    4    5\n",
      "    2    0    5    6\n",
      "   10    6    4    6\n",
      "    6    3    3    2\n",
      "\n",
      "matriz_B =\n",
      "\n",
      "    2    9    2    9\n",
      "    4    6    5    9\n",
      "    9    9   10    3\n",
      "    3    5    8    7\n",
      "\n"
     ]
    }
   ],
   "source": [
    "matriz_A = round(rand(4,4)*10)\n",
    "matriz_B = round(rand(4,4)*10)"
   ]
  },
  {
   "cell_type": "markdown",
   "id": "6d4bd406",
   "metadata": {},
   "source": [
    "### Operaciones algebraicas con matrices\n",
    "\n",
    "Transpuesta de una matriz"
   ]
  },
  {
   "cell_type": "code",
   "execution_count": 23,
   "id": "1b4ebdc9",
   "metadata": {},
   "outputs": [
    {
     "name": "stdout",
     "output_type": "stream",
     "text": [
      "matriz_transpuesta =\r\n",
      "\r\n",
      "   10    6    5    6\r\n",
      "    2    7    9    9\r\n",
      "    8    5    2    0\r\n",
      "    2    0    9    4\r\n",
      "\r\n"
     ]
    }
   ],
   "source": [
    "matriz_transpuesta = matriz_A'"
   ]
  },
  {
   "cell_type": "markdown",
   "id": "a2922c24",
   "metadata": {},
   "source": [
    "Productos y divisiones de matrices"
   ]
  },
  {
   "cell_type": "code",
   "execution_count": 25,
   "id": "c3d7301d",
   "metadata": {},
   "outputs": [
    {
     "name": "stdout",
     "output_type": "stream",
     "text": [
      "matriz_producto =\n",
      "\n",
      "   126   116   168   108\n",
      "   123    79   114   107\n",
      "   117    84   176   190\n",
      "   114    60   112   141\n",
      "\n",
      "matriz_dot =\n",
      "\n",
      "   70   10   48    8\n",
      "   48   14   20    0\n",
      "   25   63   20   36\n",
      "    0   27    0   36\n",
      "\n"
     ]
    }
   ],
   "source": [
    "matriz_producto = matriz_A * matriz_B  % Producto Matricial\n",
    "matriz_dot  = matriz_A .* matriz_B  % Producto elemento a elemento"
   ]
  },
  {
   "cell_type": "markdown",
   "id": "a3a31ef6",
   "metadata": {},
   "source": [
    "Division matricial. La división  es quivalente a:\n",
    "$$ A / B = A*B^{-1}$$"
   ]
  },
  {
   "cell_type": "code",
   "execution_count": 29,
   "id": "01bfaa2b",
   "metadata": {},
   "outputs": [
    {
     "name": "stdout",
     "output_type": "stream",
     "text": [
      "division1 =\n",
      "\n",
      "   107.1000   -44.4000   -76.9000    31.2000\n",
      "   -22.2250     9.4000    17.2750    -7.2000\n",
      "  -159.1000    67.4000   115.9000   -47.2000\n",
      "  -140.3500    59.4000   102.6500   -42.2000\n",
      "\n",
      "division2 =\n",
      "\n",
      "   107.1000   -44.4000   -76.9000    31.2000\n",
      "   -22.2250     9.4000    17.2750    -7.2000\n",
      "  -159.1000    67.4000   115.9000   -47.2000\n",
      "  -140.3500    59.4000   102.6500   -42.2000\n",
      "\n",
      "division3 =\n",
      "\n",
      "   107.1000   -44.4000   -76.9000    31.2000\n",
      "   -22.2250     9.4000    17.2750    -7.2000\n",
      "  -159.1000    67.4000   115.9000   -47.2000\n",
      "  -140.3500    59.4000   102.6500   -42.2000\n",
      "\n"
     ]
    }
   ],
   "source": [
    "division1 = matriz_A / matriz_B\n",
    "division2 = matriz_A * (matriz_B^-1)\n",
    "division3 = matriz_A * inv(matriz_B)\n"
   ]
  },
  {
   "cell_type": "markdown",
   "id": "720d870f",
   "metadata": {},
   "source": [
    "Division componente a componente"
   ]
  },
  {
   "cell_type": "code",
   "execution_count": 30,
   "id": "9085226d",
   "metadata": {},
   "outputs": [
    {
     "name": "stdout",
     "output_type": "stream",
     "text": [
      "division_dot =\r\n",
      "\r\n",
      "   1.42857   0.40000   1.33333   0.50000\r\n",
      "   0.75000   3.50000   1.25000   0.00000\r\n",
      "   1.00000   1.28571   0.20000   2.25000\r\n",
      "       Inf   3.00000   0.00000   0.44444\r\n",
      "\r\n"
     ]
    }
   ],
   "source": [
    "division_dot = matriz_A ./ matriz_B"
   ]
  },
  {
   "cell_type": "markdown",
   "id": "e32e36c6",
   "metadata": {},
   "source": [
    "Potencias de una matriz"
   ]
  },
  {
   "cell_type": "code",
   "execution_count": 31,
   "id": "c9968eb1",
   "metadata": {},
   "outputs": [
    {
     "name": "stdout",
     "output_type": "stream",
     "text": [
      "matriz_4 =\r\n",
      "\r\n",
      "   74252   62812   47650   33052\r\n",
      "   57780   49307   36898   26290\r\n",
      "   73180   61476   47677   34092\r\n",
      "   56217   47982   35832   26863\r\n",
      "\r\n"
     ]
    }
   ],
   "source": [
    "matriz_4 = matriz_A^4"
   ]
  },
  {
   "cell_type": "markdown",
   "id": "a3c7b1f3",
   "metadata": {},
   "source": [
    "Otras operaciones algebraicas sobre matrices"
   ]
  },
  {
   "cell_type": "code",
   "execution_count": 49,
   "id": "91d0c91e",
   "metadata": {},
   "outputs": [
    {
     "name": "stdout",
     "output_type": "stream",
     "text": [
      "determinante = -606.00\n",
      "inversa =\n",
      "\n",
      "  -0.1089109  -0.0429043   0.1105611   0.0693069\n",
      "   0.1584158  -0.0891089  -0.0396040  -0.0099010\n",
      "   0.0792079   0.1221122  -0.3531353   0.4950495\n",
      "  -0.0297030   0.0792079   0.2574257  -0.4356436\n",
      "\n",
      "rango =  4\n",
      "norma =  19.482\n",
      "filas =  4\n",
      "columnas =  4\n"
     ]
    }
   ],
   "source": [
    "determinante = det(matriz_A)  % determinante de una matriz\n",
    "inversa = inv(matriz_A)        % inversa de una matriz\n",
    "rango = rank(matriz_A)        % Número de filas-columnas linealmente independientes\n",
    "norma = norm(matriz_A)        % Norma de la matriz A\n",
    "[filas columnas] = size(matriz_A)  % Tamaño de la matriz\n",
    "clear all"
   ]
  },
  {
   "cell_type": "markdown",
   "id": "7734aeb8",
   "metadata": {},
   "source": [
    "Representación dispersa de matrices"
   ]
  },
  {
   "cell_type": "code",
   "execution_count": 51,
   "id": "d9d5f0eb",
   "metadata": {},
   "outputs": [
    {
     "name": "stdout",
     "output_type": "stream",
     "text": [
      "matriz_diagonal =\n",
      "\n",
      "Diagonal Matrix\n",
      "\n",
      "   1   0   0   0\n",
      "   0   2   0   0\n",
      "   0   0   3   0\n",
      "   0   0   0   4\n",
      "\n",
      "matriz =\n",
      "\n",
      "   0   2   0   0\n",
      "   4   0   0   0\n",
      "   0   0   0   1\n",
      "   0   0   3   0\n",
      "\n",
      "matriz_dispersa =\n",
      "\n",
      "Compressed Column Sparse (rows = 4, cols = 4, nnz = 4 [25%])\n",
      "\n",
      "  (2, 1) ->  4\n",
      "  (1, 2) ->  2\n",
      "  (4, 3) ->  3\n",
      "  (3, 4) ->  1\n",
      "\n",
      "matriz_densa =\n",
      "\n",
      "   0   2   0   0\n",
      "   4   0   0   0\n",
      "   0   0   0   1\n",
      "   0   0   3   0\n",
      "\n",
      "f =\n",
      "\n",
      "   2\n",
      "   1\n",
      "   4\n",
      "   3\n",
      "\n",
      "c =\n",
      "\n",
      "   1\n",
      "   2\n",
      "   3\n",
      "   4\n",
      "\n",
      "ans =  0.040000\n"
     ]
    }
   ],
   "source": [
    "matriz_diagonal = diag(1:4)   % Generamos una matriz diagonal\n",
    "matriz = matriz_diagonal([2,4,1,3], [4,2,3,1])  % La permutamos\n",
    "matriz_dispersa = sparse(matriz)   % Pasamos la matriz a formato disperso\n",
    "matriz_densa = full(matriz_dispersa)  % Matriz dispersa a densa\n",
    "[f,c] = find(matriz_densa)          % Proporciona los índices de los elementos no nulos\n",
    "indice_dispersion = length(f)/100   % Proporciona el índice de dispersión\n",
    "\n",
    "clear all"
   ]
  },
  {
   "cell_type": "markdown",
   "id": "2d21a395",
   "metadata": {},
   "source": [
    "## ARRAYS\n",
    "\n",
    "Generalización de las matrices con más de 2 dimensiones"
   ]
  },
  {
   "cell_type": "raw",
   "id": "2b3456a5",
   "metadata": {},
   "source": [
    "Creación de arrays"
   ]
  },
  {
   "cell_type": "code",
   "execution_count": 44,
   "id": "55fbc06b",
   "metadata": {},
   "outputs": [
    {
     "name": "stdout",
     "output_type": "stream",
     "text": [
      "array_ceros =\n",
      "\n",
      "ans(:,:,1) =\n",
      "\n",
      "   0   0   0\n",
      "   0   0   0\n",
      "   0   0   0\n",
      "   0   0   0\n",
      "\n",
      "ans(:,:,2) =\n",
      "\n",
      "   0   0   0\n",
      "   0   0   0\n",
      "   0   0   0\n",
      "   0   0   0\n",
      "\n",
      "ans =\n",
      "\n",
      "   4   3   2\n",
      "\n"
     ]
    }
   ],
   "source": [
    "array_ceros = zeros (4,3,2) % Crea un array de dim 4x3x2\n",
    "size(array_ceros)"
   ]
  },
  {
   "cell_type": "code",
   "execution_count": 52,
   "id": "ebc282a0",
   "metadata": {
    "scrolled": true
   },
   "outputs": [
    {
     "name": "stdout",
     "output_type": "stream",
     "text": [
      "array_unos =\n",
      "\n",
      "ans(:,:,1) =\n",
      "\n",
      "   1   1   1   1   1\n",
      "   1   1   1   1   1\n",
      "   1   1   1   1   1\n",
      "   1   1   1   1   1\n",
      "\n",
      "ans(:,:,2) =\n",
      "\n",
      "   1   1   1   1   1\n",
      "   1   1   1   1   1\n",
      "   1   1   1   1   1\n",
      "   1   1   1   1   1\n",
      "\n",
      "ans(:,:,3) =\n",
      "\n",
      "   1   1   1   1   1\n",
      "   1   1   1   1   1\n",
      "   1   1   1   1   1\n",
      "   1   1   1   1   1\n",
      "\n",
      "array_normal =\n",
      "\n",
      "ans(:,:,1) =\n",
      "\n",
      "   0.63341   1.51963\n",
      "  -0.10718  -0.26756\n",
      "\n",
      "ans(:,:,2) =\n",
      "\n",
      "  -0.64233  -1.07508\n",
      "   2.28581  -0.49743\n",
      "\n",
      "array_uniform =\n",
      "\n",
      "ans(:,:,1) =\n",
      "\n",
      "   0.50536   0.93193\n",
      "   0.12494   0.62306\n",
      "\n",
      "ans(:,:,2) =\n",
      "\n",
      "   0.8519406   0.2609929\n",
      "   0.1478906   0.0051844\n",
      "\n",
      "array_repeticion =\n",
      "\n",
      "ans(:,:,1) =\n",
      "\n",
      "   5   5   5\n",
      "   5   5   5\n",
      "   5   5   5\n",
      "\n",
      "ans(:,:,2) =\n",
      "\n",
      "   5   5   5\n",
      "   5   5   5\n",
      "   5   5   5\n",
      "\n",
      "array_reshape =\n",
      "\n",
      "ans(:,:,1) =\n",
      "\n",
      "    1    6   11   16   21   26   31   36   41   46\n",
      "    2    7   12   17   22   27   32   37   42   47\n",
      "    3    8   13   18   23   28   33   38   43   48\n",
      "    4    9   14   19   24   29   34   39   44   49\n",
      "    5   10   15   20   25   30   35   40   45   50\n",
      "\n",
      "ans(:,:,2) =\n",
      "\n",
      "    51    56    61    66    71    76    81    86    91    96\n",
      "    52    57    62    67    72    77    82    87    92    97\n",
      "    53    58    63    68    73    78    83    88    93    98\n",
      "    54    59    64    69    74    79    84    89    94    99\n",
      "    55    60    65    70    75    80    85    90    95   100\n",
      "\n"
     ]
    }
   ],
   "source": [
    "array_unos = ones(4,5,3)  % Crea un array de dim 4x5x3 con todos los valores 1\n",
    "\n",
    "array_normal = randn( 2,2,2)  % Genera un array de dim 2x2x2 con los valores distribuidos normalmente\n",
    "array_uniform = rand( 2,2,2)  % Genera un array de dim 2x2x2 con los valores distribuidos uniformemente\n",
    "\n",
    "array_repeticion = repmat( 5, [3 3 2] ) % Crea un array de dim 3x3x2 repitiendo el valor 5\n",
    "array_reshape = reshape( 1:100, [5 10 2] ) % Crea un array de dim 5x10x2 a partir del vector 1:100"
   ]
  },
  {
   "cell_type": "markdown",
   "id": "465f8f0b",
   "metadata": {},
   "source": [
    "### Acceso y modificación de los elementos de un array\n",
    "\n",
    "Se trabaja igual que con matrices"
   ]
  },
  {
   "cell_type": "code",
   "execution_count": 53,
   "id": "c7c3346b",
   "metadata": {},
   "outputs": [
    {
     "name": "stdout",
     "output_type": "stream",
     "text": [
      "array_ceros =\r\n",
      "\r\n",
      "ans(:,:,1) =\r\n",
      "\r\n",
      "   0   0   0\r\n",
      "   0   0   0\r\n",
      "   0   0   0\r\n",
      "   0   0   0\r\n",
      "\r\n",
      "ans(:,:,2) =\r\n",
      "\r\n",
      "   1   1   1\r\n",
      "   1   1   1\r\n",
      "   1   1   1\r\n",
      "   1   1   1\r\n",
      "\r\n"
     ]
    }
   ],
   "source": [
    "% Modifica la seguna matriz del array asignándole una matriz de unos\n",
    "array_ceros(:,:,2) = ones(4,3) "
   ]
  },
  {
   "cell_type": "markdown",
   "id": "0571de47",
   "metadata": {},
   "source": [
    "### Operaciones con arrays\n",
    "\n",
    "Todas las funciones vistas para matrices se pueden aplicar a arrays."
   ]
  },
  {
   "cell_type": "code",
   "execution_count": 54,
   "id": "993f6037",
   "metadata": {},
   "outputs": [
    {
     "name": "stdout",
     "output_type": "stream",
     "text": [
      "dimensiones =\r\n",
      "\r\n",
      "   4   3   2\r\n",
      "\r\n"
     ]
    }
   ],
   "source": [
    "dimensiones = size(array_ceros)"
   ]
  },
  {
   "cell_type": "markdown",
   "id": "71122152",
   "metadata": {},
   "source": [
    "## Arrays de celdas\n",
    "\n",
    "Son arrays compuestos por celdas que pueden almacenar cualquier tipo de objeto. Por tanto la celda (i, j) puede almacenar una matriz, un número, unas cadena de caracteres"
   ]
  },
  {
   "cell_type": "code",
   "execution_count": 55,
   "id": "bae365b7",
   "metadata": {},
   "outputs": [
    {
     "name": "stdout",
     "output_type": "stream",
     "text": [
      "celda = {2x2x2 Cell Array}\r\n"
     ]
    }
   ],
   "source": [
    "celda = cell(2,2, 2) % Crea un array de celda de dim 2x2x2 vacío"
   ]
  },
  {
   "cell_type": "markdown",
   "id": "00953b53",
   "metadata": {},
   "source": [
    "Rellenamos las celdas del array con cualquier tipo de objeto. "
   ]
  },
  {
   "cell_type": "code",
   "execution_count": 60,
   "id": "71b5c1a7",
   "metadata": {},
   "outputs": [
    {
     "name": "stdout",
     "output_type": "stream",
     "text": [
      "celda = {2x2x2 Cell Array}\n",
      "celda = {2x2x2 Cell Array}\n",
      "celda = {2x2x2 Cell Array}\n",
      "Diagonal Matrix\n",
      "\n",
      "   1   0   0\n",
      "   0   2   0\n",
      "   0   0   3\n",
      "ejemplo celda 1\n",
      " 5\n"
     ]
    }
   ],
   "source": [
    "celda{1,1, 1} = diag(1:3 )\n",
    "celda{ 1, 2, 1} = 'ejemplo celda 1'\n",
    "celda{ 2, 1, 1} = 5\n",
    "disp(celda{1,1, 1})\n",
    "disp(celda{1,2, 1})\n",
    "disp(celda{2,1, 1})"
   ]
  },
  {
   "cell_type": "markdown",
   "id": "ec2cf79d",
   "metadata": {},
   "source": [
    "Se puede accede a filas y columnas del array de celdas como en el\n",
    "caso de arrays numéricos"
   ]
  },
  {
   "cell_type": "code",
   "execution_count": 61,
   "id": "b7b60744",
   "metadata": {},
   "outputs": [
    {
     "name": "stdout",
     "output_type": "stream",
     "text": [
      "ans =\r\n",
      "\r\n",
      "Diagonal Matrix\r\n",
      "\r\n",
      "   1   0   0\r\n",
      "   0   2   0\r\n",
      "   0   0   3\r\n",
      "\r\n",
      "ans = ejemplo celda 1\r\n"
     ]
    }
   ],
   "source": [
    "celda{1,:,1}"
   ]
  },
  {
   "cell_type": "markdown",
   "id": "4472b7aa",
   "metadata": {},
   "source": [
    "El array de celdas se puede crear de manera incremental a medida que van llegando los datos"
   ]
  },
  {
   "cell_type": "code",
   "execution_count": 62,
   "id": "f32fc2d0",
   "metadata": {},
   "outputs": [
    {
     "name": "stdout",
     "output_type": "stream",
     "text": [
      "otro_array_celdas =\n",
      "{\n",
      "  [1,1] =\n",
      "  {\n",
      "    [1,1] =  1\n",
      "    [2,1] =  4\n",
      "    [1,2] =  2\n",
      "    [2,2] =  5\n",
      "  }\n",
      "\n",
      "}\n",
      "\n",
      "otro_array_celdas =\n",
      "{\n",
      "  [1,1] =\n",
      "  {\n",
      "    [1,1] =  1\n",
      "    [2,1] =  4\n",
      "    [1,2] =  2\n",
      "    [2,2] =  5\n",
      "  }\n",
      "\n",
      "  [1,2] = nombre\n",
      "}\n",
      "\n",
      "otro_array_celdas =\n",
      "{\n",
      "  [1,1] =\n",
      "  {\n",
      "    [1,1] =  1\n",
      "    [2,1] =  4\n",
      "    [1,2] =  2\n",
      "    [2,2] =  5\n",
      "  }\n",
      "\n",
      "  [2,1] =  2 - 4i\n",
      "  [1,2] = nombre\n",
      "  [2,2] = [](0x0)\n",
      "}\n",
      "\n"
     ]
    }
   ],
   "source": [
    "otro_array_celdas{1, 1} = { 1 2 ; 4 5}\n",
    "otro_array_celdas{1, 2} = 'nombre' \n",
    "otro_array_celdas{2,1} = 2 - 4i"
   ]
  },
  {
   "cell_type": "markdown",
   "id": "51031166",
   "metadata": {},
   "source": [
    "## Estructuras\n",
    "\n",
    "Almacenan información estructurada en una serie de campos"
   ]
  },
  {
   "cell_type": "markdown",
   "id": "146c314b",
   "metadata": {},
   "source": [
    "Por ejemplo: Disponemos de una base de pacientes y para cada paciente se guardan los siguientes campos:\n",
    "* Nombre\n",
    "* Habitación\n",
    "* Test_matriz"
   ]
  },
  {
   "cell_type": "code",
   "execution_count": 63,
   "id": "c66c1e43",
   "metadata": {},
   "outputs": [
    {
     "name": "stdout",
     "output_type": "stream",
     "text": [
      "paciente =\n",
      "\n",
      "  scalar structure containing the fields:\n",
      "\n",
      "    nombre =  Juan\n",
      "\n",
      "paciente =\n",
      "\n",
      "  scalar structure containing the fields:\n",
      "\n",
      "    nombre =  Juan\n",
      "    Habitacion =  710\n",
      "\n",
      "paciente =\n",
      "\n",
      "  scalar structure containing the fields:\n",
      "\n",
      "    nombre =  Juan\n",
      "    Habitacion =  710\n",
      "    Test_matriz =\n",
      "\n",
      "Diagonal Matrix\n",
      "\n",
      "        79     0     0\n",
      "         0   178     0\n",
      "         0     0   105\n",
      "\n",
      "\n"
     ]
    }
   ],
   "source": [
    "paciente(1).nombre = ' Juan'\n",
    "paciente(1).Habitacion =  710\n",
    "paciente(1).Test_matriz = diag( [79 178 105] ) "
   ]
  },
  {
   "cell_type": "markdown",
   "id": "52b7f28a",
   "metadata": {},
   "source": [
    "Para acceder a los elementos de la estructura:"
   ]
  },
  {
   "cell_type": "code",
   "execution_count": 64,
   "id": "763a0ee8",
   "metadata": {},
   "outputs": [
    {
     "name": "stdout",
     "output_type": "stream",
     "text": [
      "ans =  Juan\n",
      "ans =\n",
      "\n",
      "Diagonal Matrix\n",
      "\n",
      "    79     0     0\n",
      "     0   178     0\n",
      "     0     0   105\n",
      "\n"
     ]
    }
   ],
   "source": [
    "paciente(1).nombre\n",
    "paciente(1).Test_matriz"
   ]
  },
  {
   "cell_type": "markdown",
   "id": "be746ec4",
   "metadata": {},
   "source": [
    "Para ñadir nuevos pacientes"
   ]
  },
  {
   "cell_type": "code",
   "execution_count": 65,
   "id": "79c3f74b",
   "metadata": {},
   "outputs": [
    {
     "name": "stdout",
     "output_type": "stream",
     "text": [
      "paciente =\n",
      "\n",
      "  1x2 struct array containing the fields:\n",
      "\n",
      "    nombre\n",
      "    Habitacion\n",
      "    Test_matriz\n",
      "\n",
      "paciente =\n",
      "\n",
      "  1x2 struct array containing the fields:\n",
      "\n",
      "    nombre\n",
      "    Habitacion\n",
      "    Test_matriz\n",
      "\n"
     ]
    }
   ],
   "source": [
    "paciente(2).nombre = 'Pedro'\n",
    "paciente(2).Habitacion = 100"
   ]
  },
  {
   "cell_type": "markdown",
   "id": "34e5a142",
   "metadata": {},
   "source": [
    "## PROGRAMACIÓN DE FUNCIONES EN MATLAB\n",
    "\n",
    "En Octave GUI se debe crear un fichero con el nombre de la función a programar y extensión .m"
   ]
  },
  {
   "cell_type": "markdown",
   "id": "3b41555c",
   "metadata": {},
   "source": [
    "La sintaxis es:\n",
    "\n",
    "    function [Resultado] = nombre_funcion( param1, param2, param3)\n",
    "       ...\n",
    "    endfunction\n",
    "\n",
    "Por ejemplo"
   ]
  },
  {
   "cell_type": "code",
   "execution_count": 67,
   "id": "8e8ca5cd",
   "metadata": {},
   "outputs": [],
   "source": [
    "function [res] = suma_dos(a, b)\n",
    "    res = a + b\n",
    "endfunction\n"
   ]
  },
  {
   "cell_type": "markdown",
   "id": "2391cfdd",
   "metadata": {},
   "source": [
    "Y se la invoca por su nombre y sus parámetros"
   ]
  },
  {
   "cell_type": "code",
   "execution_count": 70,
   "id": "db445e5c",
   "metadata": {},
   "outputs": [
    {
     "name": "stdout",
     "output_type": "stream",
     "text": [
      "res =  7\n",
      " 7\n"
     ]
    }
   ],
   "source": [
    "b = suma_dos(3, 4);\n",
    "disp(b);"
   ]
  },
  {
   "cell_type": "markdown",
   "id": "aca403ff",
   "metadata": {},
   "source": [
    "** Principales funciones de programación **\n",
    "\n",
    "Sentencias condicionale if"
   ]
  },
  {
   "cell_type": "code",
   "execution_count": 75,
   "id": "ca1ae1b5",
   "metadata": {},
   "outputs": [
    {
     "name": "stdout",
     "output_type": "stream",
     "text": [
      "a es menor que b\r\n"
     ]
    }
   ],
   "source": [
    "a = 1;\n",
    "b = 2;\n",
    "c = 3;\n",
    "\n",
    "if (a<b) \n",
    "    disp(\"a es menor que b\");\n",
    "endif"
   ]
  },
  {
   "cell_type": "code",
   "execution_count": 76,
   "id": "f2aaacfe",
   "metadata": {},
   "outputs": [
    {
     "name": "stdout",
     "output_type": "stream",
     "text": [
      "a es mayor que b\r\n"
     ]
    }
   ],
   "source": [
    "if (a>b)\n",
    "    disp(\"a es mayor que b\");\n",
    "else\n",
    "    disp(\"a es mayor que b\");\n",
    "endif"
   ]
  },
  {
   "cell_type": "code",
   "execution_count": 77,
   "id": "7c72db80",
   "metadata": {},
   "outputs": [
    {
     "name": "stdout",
     "output_type": "stream",
     "text": [
      "a es el mínimo\r\n"
     ]
    }
   ],
   "source": [
    "if (a>b)\n",
    "    disp(\"a no es el mínimo\");\n",
    "elseif (a>c)\n",
    "    disp(\"a no es el mínimo\");\n",
    "else\n",
    "    disp(\"a es el mínimo\");\n",
    "endif"
   ]
  },
  {
   "cell_type": "markdown",
   "id": "39058c3d",
   "metadata": {},
   "source": [
    "Bucles for\n",
    "\n",
    "    for variable=lista_indices\n",
    "        sentencias\n",
    "    endfor"
   ]
  },
  {
   "cell_type": "code",
   "execution_count": 83,
   "id": "553d44ca",
   "metadata": {},
   "outputs": [
    {
     "name": "stdout",
     "output_type": "stream",
     "text": [
      " 1\r\n",
      " 9\r\n",
      " 25\r\n",
      " 49\r\n",
      " 81\r\n",
      " 121\r\n"
     ]
    }
   ],
   "source": [
    "for i= 1:2:11\n",
    "    numero = i*i;\n",
    "    disp(numero)\n",
    "end\n"
   ]
  },
  {
   "cell_type": "code",
   "execution_count": 84,
   "id": "89bbad84",
   "metadata": {},
   "outputs": [
    {
     "name": "stdout",
     "output_type": "stream",
     "text": [
      " 1\r\n",
      " 9\r\n",
      " 25\r\n",
      " 49\r\n",
      " 81\r\n",
      " 121\r\n"
     ]
    }
   ],
   "source": [
    "for i= 1:11\n",
    "    numero = i*i;\n",
    "    if (mod(numero, 2) != 0)\n",
    "        disp(numero)\n",
    "    endif    \n",
    "endfor"
   ]
  },
  {
   "cell_type": "code",
   "execution_count": 86,
   "id": "0b7e3602",
   "metadata": {},
   "outputs": [
    {
     "name": "stdout",
     "output_type": "stream",
     "text": [
      "ans = el valor de x es: 016\r\n"
     ]
    }
   ],
   "source": [
    "x = 0;\n",
    "for i= 1:2:11\n",
    "    x = x + i;\n",
    "    if x > 10\n",
    "        break\n",
    "    end\n",
    "end\n",
    "sprintf('el valor de x es: %03d', x)  % Estilo \"C\""
   ]
  },
  {
   "cell_type": "markdown",
   "id": "50e45b2e",
   "metadata": {},
   "source": [
    "Bucles while\n",
    "\n",
    "    while expresion_logica\n",
    "        sentencias\n",
    "    endwhile"
   ]
  },
  {
   "cell_type": "code",
   "execution_count": 88,
   "id": "788ebe9e",
   "metadata": {},
   "outputs": [
    {
     "name": "stdout",
     "output_type": "stream",
     "text": [
      "el valor de x es: 016\r\n"
     ]
    }
   ],
   "source": [
    "x = 1;\n",
    "while x <= 10\n",
    "\tx = 2 * x;\n",
    "end\n",
    "disp(sprintf('el valor de x es: %d', x))\n",
    "\n",
    "clear all"
   ]
  },
  {
   "cell_type": "markdown",
   "id": "dfe86d46",
   "metadata": {},
   "source": [
    "## FUNCIONES DE LECTURA ESCRITURA EN FICHERO\n",
    "\n",
    "Formato ascii: La ventaja es que los ficheros se puede leer con cualquier programa"
   ]
  },
  {
   "cell_type": "code",
   "execution_count": 91,
   "id": "e7d401c6",
   "metadata": {},
   "outputs": [
    {
     "name": "stdout",
     "output_type": "stream",
     "text": [
      "matriz_A =\r\n",
      "\r\n",
      "    8    1    0    9    6\r\n",
      "    9    7    6    4    3\r\n",
      "    1    2    7    1    5\r\n",
      "    9    7    3    6    2\r\n",
      "    6    7    3   10    9\r\n",
      "\r\n"
     ]
    }
   ],
   "source": [
    "matriz_A = round(rand(5,5)*10)"
   ]
  },
  {
   "cell_type": "markdown",
   "id": "2a34adc9",
   "metadata": {},
   "source": [
    "Grabar y leer en  un fichero ASCII"
   ]
  },
  {
   "cell_type": "code",
   "execution_count": 95,
   "id": "043ae1af",
   "metadata": {},
   "outputs": [
    {
     "name": "stdout",
     "output_type": "stream",
     "text": [
      "matriz_leida =\r\n",
      "\r\n",
      "    8    1    0    9    6\r\n",
      "    9    7    6    4    3\r\n",
      "    1    2    7    1    5\r\n",
      "    9    7    3    6    2\r\n",
      "    6    7    3   10    9\r\n",
      "\r\n"
     ]
    }
   ],
   "source": [
    "save('fichero_ejemplo_matriz_ascii.txt', 'matriz_A', '-ascii' )\n",
    "matriz_leida = load('fichero_ejemplo_matriz_ascii.txt', '-ascii')"
   ]
  },
  {
   "cell_type": "markdown",
   "id": "d6d50d9d",
   "metadata": {},
   "source": [
    "Grabar y leer en  un fichero binario"
   ]
  },
  {
   "cell_type": "code",
   "execution_count": 96,
   "id": "8b1f7ae0",
   "metadata": {},
   "outputs": [
    {
     "name": "stdout",
     "output_type": "stream",
     "text": [
      "matriz_leida =\r\n",
      "\r\n",
      "  scalar structure containing the fields:\r\n",
      "\r\n",
      "    matriz_A =\r\n",
      "\r\n",
      "        8    1    0    9    6\r\n",
      "        9    7    6    4    3\r\n",
      "        1    2    7    1    5\r\n",
      "        9    7    3    6    2\r\n",
      "        6    7    3   10    9\r\n",
      "\r\n",
      "\r\n"
     ]
    }
   ],
   "source": [
    "save('fichero_ejemplo_matriz_mat.mat', 'matriz_A', '-mat' )\n",
    "matriz_leida = load('fichero_ejemplo_matriz_mat.mat', '-mat')"
   ]
  },
  {
   "cell_type": "markdown",
   "id": "7898fc76",
   "metadata": {},
   "source": [
    "## FUNCIONES DE LECTURA ESCRITURA EN FICHERO\n",
    "\n",
    "Representación de funciones univariantes"
   ]
  },
  {
   "cell_type": "markdown",
   "id": "265b3083",
   "metadata": {},
   "source": [
    "Representar la función: $$ f(x) = sin(x) $$ en el intervalo [0, 2*pi]"
   ]
  },
  {
   "cell_type": "code",
   "execution_count": 98,
   "id": "1a1a6f00",
   "metadata": {},
   "outputs": [
    {
     "data": {
      "image/png": "[encoded data removed]",
      "text/plain": [
       "<IPython.core.display.Image object>"
      ]
     },
     "metadata": {},
     "output_type": "display_data"
    }
   ],
   "source": [
    "x_seno = 0:pi/100:2*pi;\n",
    "y_seno = sin(x_seno);\n",
    "plot( x_seno, y_seno )\n",
    "xlabel( 'x = 0: 2 \\pi' )\n",
    "ylabel( ' sen(x) ')\n",
    "title( 'Grafico de la funcion sen(x)')\n"
   ]
  },
  {
   "cell_type": "markdown",
   "id": "8e2b947e",
   "metadata": {},
   "source": [
    "Representación de varias funciones en el mismo plot\n",
    "\n",
    "Representar $$ cos(x), 2 * cos(x), 0.5 * cos(x)$$ en el intervalo [0, 2 pi]"
   ]
  },
  {
   "cell_type": "code",
   "execution_count": 103,
   "id": "62943e88",
   "metadata": {},
   "outputs": [
    {
     "data": {
      "image/png": "[encoded data removed]",
      "text/plain": [
       "<IPython.core.display.Image object>"
      ]
     },
     "metadata": {},
     "output_type": "display_data"
    }
   ],
   "source": [
    "x_cos = 0:pi/100:2*pi;\n",
    "y_cos = cos(x_cos);\n",
    "y_2cos = 2 * cos(x_cos);\n",
    "y_05cos = 0.5 * cos(x_cos);\n",
    "plot( x_cos, y_cos, 'b-', x_cos, y_2cos, 'r--', x_cos, y_05cos, 'g-.') \n",
    "xlabel( '0 \\leq x \\leq 2 \\pi')\n",
    "ylabel(' y ')\n",
    "legend( 'cos(x)', '2 * cos(x)', '0.5 * cos(x)' )\n",
    "title(' Ejemplo de varias funciones en un plot')"
   ]
  },
  {
   "cell_type": "markdown",
   "id": "d660d5e0",
   "metadata": {},
   "source": [
    "'b*-' se interpreta de la siguiente manera. El primer carácter indica el color (azul), el segundo el tipo de carácter utilizado para representar cada\n",
    "punto donde se evalúa la función (no es obligatorio), el tercero especifica el tipo de trazo para dibujar la función."
   ]
  },
  {
   "cell_type": "markdown",
   "id": "f18abac2",
   "metadata": {},
   "source": [
    "**Representación de funciones de 2 variables**"
   ]
  },
  {
   "cell_type": "markdown",
   "id": "8bec99c1",
   "metadata": {},
   "source": [
    "Representar una función \n",
    "\n",
    "$$ z = y · exp( -x^2 - y^2) $$ \n",
    "\n",
    "con $x$ en el intervalo $[-2, 2]$, $y$ en el intervalo $[-4, 4]$"
   ]
  },
  {
   "cell_type": "code",
   "execution_count": 104,
   "id": "a354aa1f",
   "metadata": {},
   "outputs": [
    {
     "data": {
      "image/png": "[encoded data removed]",
      "text/plain": [
       "<IPython.core.display.Image object>"
      ]
     },
     "metadata": {},
     "output_type": "display_data"
    }
   ],
   "source": [
    "# Gráfico tridimensional\n",
    "x_exp = -2:0.2:2;\n",
    "y_exp= -4:0.2:4;\n",
    "[x_grid y_grid] = meshgrid( x_exp, y_exp );\n",
    "z_exp = x_grid .* exp( - x_grid .^2 - y_grid .^2 );\n",
    "surf( x_grid, y_grid, z_exp)"
   ]
  },
  {
   "cell_type": "code",
   "execution_count": 106,
   "id": "095ecec9",
   "metadata": {},
   "outputs": [
    {
     "data": {
      "image/png": "[encoded data removed]",
      "text/plain": [
       "<IPython.core.display.Image object>"
      ]
     },
     "metadata": {},
     "output_type": "display_data"
    }
   ],
   "source": [
    "#Graficos de curvas de nivel\n",
    "contour( z_exp )"
   ]
  },
  {
   "cell_type": "markdown",
   "id": "ed8804af",
   "metadata": {},
   "source": [
    "Una curva de nivel es el lugar geométrico de los puntos que tienen el mismo\n",
    "valor de f"
   ]
  },
  {
   "cell_type": "code",
   "execution_count": 108,
   "id": "5ff0c6ac",
   "metadata": {},
   "outputs": [
    {
     "data": {
      "image/png": "[encoded data removed]",
      "text/plain": [
       "<IPython.core.display.Image object>"
      ]
     },
     "metadata": {},
     "output_type": "display_data"
    }
   ],
   "source": [
    "# Gráficos de color\n",
    "pcolor( z_exp )"
   ]
  },
  {
   "cell_type": "markdown",
   "id": "760283bc",
   "metadata": {},
   "source": [
    "Gráficos de color, son aquellos en que el color que se asigna a cada punto es proporcional al valor de f en ese punto"
   ]
  },
  {
   "cell_type": "markdown",
   "id": "fe94ddbf",
   "metadata": {},
   "source": [
    "Visualización de datos multivariantes (2 variables)"
   ]
  },
  {
   "cell_type": "code",
   "execution_count": 114,
   "id": "1515fa44",
   "metadata": {},
   "outputs": [
    {
     "data": {
      "image/png": "[encoded data removed]",
      "text/plain": [
       "<IPython.core.display.Image object>"
      ]
     },
     "metadata": {},
     "output_type": "display_data"
    }
   ],
   "source": [
    "% Generar unos datos distribuidos normalmente centrado en (1,1) y con\n",
    "% desviación estándard para las variables 0.1\n",
    "\n",
    "x = 1 + 0.1 .* randn( 300, 1) ;  % Generamos 300 datos para la variable x\n",
    "% con media 1 y desviación estándard 0.1\n",
    "y = 1 + 0.1 .* randn(300, 1);\n",
    "\n",
    "plot( x, y, 'k.' ) % Visualiza los datos en R^2 según la distribución pedida\n",
    "axis( [0.4 1.5 0.4 1.5] ) % Selecciona el rango de valores a visualizar para\n",
    "% la variable x (0.4-1.5) y para la variable y (0.4-1.5). Equivale a hacer\n",
    "% un zoom del gráfico\n"
   ]
  },
  {
   "cell_type": "code",
   "execution_count": null,
   "id": "8c766534",
   "metadata": {},
   "outputs": [],
   "source": []
  }
 ],
 "metadata": {
  "kernelspec": {
   "display_name": "Octave",
   "language": "octave",
   "name": "octave"
  },
  "language_info": {
   "file_extension": ".m",
   "help_links": [
    {
     "text": "GNU Octave",
     "url": "https://www.gnu.org/software/octave/support.html"
    },
    {
     "text": "Octave Kernel",
     "url": "https://github.com/Calysto/octave_kernel"
    },
    {
     "text": "MetaKernel Magics",
     "url": "https://metakernel.readthedocs.io/en/latest/source/README.html"
    }
   ],
   "mimetype": "text/x-octave",
   "name": "octave",
   "version": "5.2.0"
  }
 },
 "nbformat": 4,
 "nbformat_minor": 5
}
